{
 "cells": [
  {
   "cell_type": "code",
   "execution_count": 1,
   "metadata": {},
   "outputs": [],
   "source": [
    "%matplotlib inline\n",
    "import io, os, sys, types\n",
    "\n",
    "# this import imports the databaseloader script (which only does TGSS and VLSSR for now)\n",
    "import Databaseloader as dl\n",
    "\n",
    "import matplotlib\n",
    "import matplotlib.pyplot as plt\n",
    "import numpy as np\n",
    "import scipy as sp\n",
    "import tkp.db\n",
    "from tkp.db.model import Varmetric\n",
    "from tkp.db.model import Runningcatalog\n",
    "from tkp.db.model import Newsource\n",
    "from tkp.db.model import Extractedsource\n",
    "from tkp.db.model import Image\n",
    "\n",
    "import logging\n",
    "from pandas import DataFrame\n",
    "import sqlalchemy\n",
    "from sqlalchemy import *\n",
    "from sqlalchemy.orm import relationship\n",
    "#import Tools\n",
    "#import generic_tools\n",
    "#import plotting_tools\n",
    "from scipy.stats import norm\n",
    "import pylab\n",
    "pylab.rcParams['legend.loc'] = 'best'\n",
    "from matplotlib.ticker import NullFormatter\n",
    "from matplotlib.font_manager import FontProperties\n",
    "#from astroML import density_estimation\n",
    "\n",
    "from scipy.cluster.hierarchy import dendrogram, linkage\n",
    "from scipy.cluster.hierarchy import cophenet\n",
    "from scipy.spatial.distance import pdist\n",
    "from scipy.cluster.hierarchy import fcluster\n",
    "from scipy.spatial import distance\n",
    "\n",
    "logging.basicConfig(level=logging.INFO)"
   ]
  },
  {
   "cell_type": "code",
   "execution_count": 2,
   "metadata": {},
   "outputs": [],
   "source": [
    "engine = 'postgresql'\n",
    "host = 'vlo.science.uva.nl'\n",
    "port = 5432\n",
    "user = 'kmeulen'\n",
    "password = 'kLu2oepRouv2UfoUPhoU'\n",
    "database='KmeulenTrap4P23'\n",
    "websiteURL = 'http://banana.transientskp.org/r4/vlo_'+database+'/runningcatalog/'\n",
    "latexURL = '\\url{http://banana.transientskp.org/r4/vlo_'+database+'/runningcatalog/'\n",
    "query_loglevel = logging.WARNING  # Set to INFO to see queries, otherwise WARNING"
   ]
  },
  {
   "cell_type": "code",
   "execution_count": 3,
   "metadata": {},
   "outputs": [
    {
     "name": "stderr",
     "output_type": "stream",
     "text": [
      "INFO:tkp.db.database:Database config: postgresql://kmeulen@vlo.science.uva.nl:5432/KmeulenTrap4P23\n",
      "/home/kmeulen/virtualenv/local/lib/python2.7/site-packages/psycopg2/__init__.py:144: UserWarning: The psycopg2 wheel package will be renamed from release 2.8; in order to keep installing from binary please use \"pip install psycopg2-binary\" instead. For details see: <http://initd.org/psycopg/docs/install.html#binary-install-from-pypi>.\n",
      "  \"\"\")\n",
      "INFO:tkp.db.database:connecting to database...\n",
      "INFO:tkp.db.database:connected to: postgresql://kmeulen@vlo.science.uva.nl:5432/KmeulenTrap4P23\n"
     ]
    }
   ],
   "source": [
    "# this is sqlalchemy script to login to the Banana database\n",
    "logging.getLogger('sqlalchemy.engine').setLevel(query_loglevel)\n",
    "db = tkp.db.Database(engine=engine, host=host, port=port,\n",
    "                     user=user, password=password, database=database)\n",
    "db.connect()\n",
    "session = db.Session()\n",
    "\n",
    "# Here i get the peak flux and the error on the peak flux from all the sources in the database\n",
    "fpeak = session.query(Extractedsource.f_peak).all()\n",
    "fpeake = session.query(Extractedsource.f_peak_err).all()"
   ]
  },
  {
   "cell_type": "code",
   "execution_count": null,
   "metadata": {},
   "outputs": [],
   "source": []
  },
  {
   "cell_type": "markdown",
   "metadata": {},
   "source": [
    "Query to find the variability parameters of the sources in a specific dataset "
   ]
  },
  {
   "cell_type": "code",
   "execution_count": 4,
   "metadata": {
    "scrolled": true
   },
   "outputs": [],
   "source": [
    "# Here I specifiy which dataset of the database to use\n",
    "dataset_id = 5\n",
    "\n",
    "VarParams = session.query(Varmetric,Runningcatalog).select_from(join(Varmetric,Runningcatalog)).filter(Runningcatalog.dataset_id == dataset_id).all()\n",
    "\n"
   ]
  },
  {
   "cell_type": "markdown",
   "metadata": {},
   "source": [
    "Make 2d array of all the sources except for the transients."
   ]
  },
  {
   "cell_type": "code",
   "execution_count": 5,
   "metadata": {},
   "outputs": [],
   "source": [
    "\n",
    "plotdata = [[VarParams[i].Runningcatalog.id, VarParams[i].Runningcatalog.wm_ra,\\\n",
    "             VarParams[i].Runningcatalog.wm_decl,VarParams[i].Runningcatalog.avg_ra_err,\\\n",
    "             VarParams[i].Runningcatalog.avg_decl_err, VarParams[i].Runningcatalog.datapoints,\\\n",
    "             session.query(Newsource).filter(Newsource.id==VarParams[i].Varmetric.newsource).one().newsource_type,\\\n",
    "             VarParams[i].Varmetric.newsource,VarParams[i].Varmetric.lightcurve_max, session.query(Newsource).filter(Newsource.id==VarParams[i].Varmetric.newsource).one().trigger_xtrsrc.id]\\\n",
    "            for i in range(len(VarParams)) if VarParams[i].Varmetric.newsource != None]\n"
   ]
  },
  {
   "cell_type": "code",
   "execution_count": 6,
   "metadata": {},
   "outputs": [],
   "source": [
    "# The de Ruiter distance as shown in the Trap Paper section 4.4 https://arxiv.org/abs/1503.01526 \n",
    "\n",
    "def CalcDeRuiter(transient,ra2,ra2e,dec2,dec2e):\n",
    "    ra1 = transient['ra']\n",
    "    dec1 = transient['dec']\n",
    "    ra1e = transient['rae']\n",
    "    dec1e = transient['dece']\n",
    "\n",
    "    r=(np.sqrt((((-1*ra2 +ra1)**2)*(np.cos((dec1+dec2)/2))**2)/\\\n",
    "                       (ra1e**2+ra2e**2)+((-1*dec2+dec1)**2/(dec1e**2+dec2e**2))))\n",
    "    return r "
   ]
  },
  {
   "cell_type": "code",
   "execution_count": 7,
   "metadata": {},
   "outputs": [],
   "source": [
    "# Comparing the fluxes heavily inspired on the de Ruiter distance as used by Bart's thesis: https://api-alumni.nl/media/uploads/theses/phd/lha-scheers-phd.pdf page 55\n",
    "\n",
    "def CompareFluxes(transient,pflux2,pflux2e):\n",
    "    pflux1 = transient['pflux']\n",
    "    pflux1e = transient['pfluxe']\n",
    "    \n",
    "    r = np.sqrt((((-1*pflux2 +pflux1)**2))/\\\n",
    "                       (pflux1e**2+pflux2e**2))\n",
    "    return r"
   ]
  },
  {
   "cell_type": "markdown",
   "metadata": {},
   "source": [
    "Function for pruning our candidate list"
   ]
  },
  {
   "cell_type": "code",
   "execution_count": 8,
   "metadata": {},
   "outputs": [],
   "source": [
    "def SelectorForCandidates(rcheck,ycheck,checklight,deruiter=True):\n",
    "    \"\"\"Function for pruning the candidate list using both distance and lightcurve measurements\"\"\"\n",
    "    \n",
    "    print 'before:'\n",
    "    print len(Transients.instances)\n",
    "    oldlen = len(Transients.instances) + 1\n",
    "    \n",
    "# #   Repeat until no improvement in the length of the candidate list\n",
    "    while len(Transients.instances) - oldlen < 0:\n",
    "\n",
    "        translist = []\n",
    "#         rlist = []\n",
    "        oldlen = len(Transients.instances)\n",
    "        \n",
    "#         These lists are necessary to compare the candidate transients against each other\n",
    "        ralist = []\n",
    "        raelist = []\n",
    "        declist = []\n",
    "        decelist = []\n",
    "        pfluxlist = []\n",
    "        pfluxelist = []\n",
    "\n",
    "    # \"\"\"Check candidate transients against each other\"\"\"\n",
    "    \n",
    "    \n",
    "        for i in Transients.instances:\n",
    "            if not deruiter:\n",
    "                translist.append(i.radec)\n",
    "            else:\n",
    "                ralist.append(i.ra)\n",
    "                raelist.append(i.rae)\n",
    "                declist.append(i.dec)\n",
    "                decelist.append(i.dece)\n",
    "                pfluxlist.append(i.pflux)\n",
    "                pfluxelist.append(i.pfluxe)\n",
    "\n",
    "                \n",
    "        \n",
    "#       if we are not using deruiter distance use euclidean (it is slightly outdated and not used alot\n",
    "#       I would recommend just using the deruiterdistance method which also features the updated fluxcheckmethod)\n",
    "        if not deruiter:\n",
    "            index1list = []\n",
    "            index2list = []\n",
    "            translist = np.reshape(translist,(len(Transients.instances),2))\n",
    "            Z = distance.cdist(translist,translist,'euclidean')\n",
    "\n",
    "        # select on distance measure of 0.06 difference\n",
    "            for g in range(len(Z)):\n",
    "                for j in range(len(Z[g])):\n",
    "                    if Z[g][j] <=0.06 and Z[g][j] !=0.0:\n",
    "                        index1list.append(g)\n",
    "                        index2list.append(j)\n",
    "                    i = 0\n",
    "                    \n",
    "# the deletion process for notderuiterdistance                    \n",
    "            while i < len(index1list):\n",
    "\n",
    "                if checklight:\n",
    "\n",
    "\n",
    "                    try:\n",
    "                        if  Transients.instances[index2list[i]].pflux*0.8 <= Transients.instances[index1list[i]].pflux <= Transients.instances[index2list[i]].pflux*1.2:\n",
    "                            index1list.remove(index2list[i])\n",
    "                            Transients.instances[index1list[i]] = []\n",
    "                    except:\n",
    "                        pass\n",
    "\n",
    "                else:\n",
    "                    index1list.remove(index2list[i])\n",
    "                    Transients.instances[index1list[i]] = []\n",
    "\n",
    "\n",
    "                i+=1\n",
    "\n",
    "            i = 0\n",
    "            while i < len(Transients.instances):\n",
    "                if Transients.instances[i]:\n",
    "                    pass\n",
    "                else:\n",
    "                    del Transients.instances[i]\n",
    "                    i-=1     \n",
    "                i+=1\n",
    "                        \n",
    "                        \n",
    "#       \"here we are using deRuiter to calculate the fluxes\n",
    "\n",
    "        else:\n",
    "            h = 0\n",
    "            while h <(len(Transients.instances)):\n",
    "#               calculate both the deruiterdistance's and compare the fluxes.\n",
    "                r = CalcDeRuiter(vars(Transients.instances[h]),np.array(ralist),\\\n",
    "                                 np.array(raelist),np.array(declist),np.array(decelist))\n",
    "                if checklight:\n",
    "                    y = CompareFluxes(vars(Transients.instances[h]),np.array(pfluxlist),np.array(pfluxelist))\n",
    "                jk = 0\n",
    "                for j in range(len(r)):\n",
    "                    if jk >= len(Transients.instances):\n",
    "                        break\n",
    "                    if checklight:\n",
    "                        if r[j] <=rcheck and r[j]!= 0.0 and 0 < y[j] <=ycheck:\n",
    "                            del Transients.instances[h]\n",
    "                            h-=1\n",
    "                            jk=0\n",
    "                            break\n",
    "                    else:\n",
    "                        if r[j] <=rcheck and r[j]!= 0.0:\n",
    "                            del Transients.instances[h]\n",
    "                            h-=1\n",
    "                            jk=0\n",
    "                            break\n",
    "                    jk+=1\n",
    "                   \n",
    "                h+=1\n",
    "\n",
    "        \n",
    "\n",
    "\n",
    "    # \"\"\"Check Candidates against all sources\"\"\"\n",
    "#     a zero candidate that is being tracked if the flux is comparable to the transient \n",
    "#     could be real things when it is consistently brighter or fainter than the candidate 1.\n",
    "#  Talk to Mark about pyc to get flux at specific coordinate ore look at the options. in the pyc-h \n",
    "\n",
    "        masterindex = []\n",
    "        ilist = []\n",
    "        for i in Transients.instances:\n",
    "            indexlist = []\n",
    "            \n",
    "#             again the outdated euclidean method\n",
    "            if not deruiter:\n",
    "                Y = distance.cdist(i.radec,X,'euclidean')\n",
    "\n",
    "                for g in Y:\n",
    "                    for j in range(len(g)):\n",
    "                        if checklight:\n",
    "                            if g[j] <=0.06 and 0.8*lightcata[j]<=i.pflux <= 1.2*lightcata[j]:\n",
    "                                indexlist.append(j)\n",
    "                        else:\n",
    "                            if g[j] <=0.06:\n",
    "                                indexlist.append(j)\n",
    "                \n",
    "#             the de Ruiter method \n",
    "            else:\n",
    "                r = CalcDeRuiter(vars(i),np.array(racata),np.array(raecata),np.array(deccata),np.array(dececata))\n",
    "                y = CompareFluxes(vars(i),np.array(lightcata),np.array(lightecata))\n",
    "                for j in range(len(r)):\n",
    "                    if checklight:\n",
    "                        if r[j] <=rcheck and y[j]<=ycheck:\n",
    "                            indexlist.append(j)\n",
    "                                \n",
    "                            \n",
    "                            \n",
    "                    else:\n",
    "                        if r[j] <=rcheck:\n",
    "                            indexlist.append(j)\n",
    "            masterindex.append(indexlist)\n",
    "            \n",
    "# removing the fake candidates\n",
    "        i = 0\n",
    "        j= 0\n",
    "        while i < len(masterindex):\n",
    "            if masterindex[i]:\n",
    "                del Transients.instances[j]\n",
    "                j-=1\n",
    "            i+=1\n",
    "            j+=1\n",
    "\n",
    "    print 'after:'    \n",
    "    print len(Transients.instances)\n",
    "\n"
   ]
  },
  {
   "cell_type": "markdown",
   "metadata": {},
   "source": [
    "Function for comparing transient candidate against external databases"
   ]
  },
  {
   "cell_type": "code",
   "execution_count": 9,
   "metadata": {},
   "outputs": [],
   "source": [
    "\n",
    "def CheckOutsideDatabase(data,rcheck,ycheck,checklight,gamma,deruiter = True):\n",
    "    \"\"\" Function for checking against outside database the data entry is for the database rcheck is condition \\\n",
    "where we check deruiter against, ycheck is where we check de flux against and checklight,gamma,deruiter\\\n",
    "are booleans which switch on checking the flux(checklight), checking using error on the flux(gamma) and \\\n",
    "using deruiter distance\n",
    "\n",
    "\"\"\"\n",
    "    masterindex = []\n",
    "    savedilist = []\n",
    "    print 'before:'\n",
    "\n",
    "    print len(Transients.instances)\n",
    "\n",
    "    for i in Transients.instances:\n",
    "        indexlist = []\n",
    "\n",
    "        if not deruiter:\n",
    "            Y = distance.cdist(i.radec,data.radec,'euclidean')\n",
    "            if gamma:\n",
    "                y = CompareFluxes(vars(i),np.array(data.pflux),np.array(data.pfluxe))\n",
    "                \n",
    "                for g in Y:\n",
    "\n",
    "                    for j in range(len(g)):\n",
    "\n",
    "                        if g[j] <=0.06 and y[j]>= ycheck:\n",
    "                            if i.id not in savedilist:\n",
    "                                FluxVar(vars(i),j)\n",
    "                                savedilist.append(i.id)\n",
    "                            indexlist.append(j)\n",
    "\n",
    "                        elif g[j] <=0.06:\n",
    "                            indexlist.append(j)\n",
    "                    \n",
    "            else:\n",
    "                for g in Y:\n",
    "\n",
    "                    for j in range(len(g)):\n",
    "                        if checklight:\n",
    "\n",
    "                            if g[j] <=0.06 and (i.pflux <= 0.9*data.pflux[j] or i.pflux>=1.1*data.pflux[j]):\n",
    "                                if i.id not in savedilist:\n",
    "                                    FluxVar(vars(i),j)\n",
    "                                    savedilist.append(i.id)\n",
    "                                indexlist.append(j)\n",
    "\n",
    "                            elif g[j] <=0.06:\n",
    "                                indexlist.append(j)\n",
    "                        else:\n",
    "                            if g[j] <=0.06:\n",
    "                                indexlist.append(j)\n",
    "        else:\n",
    "\n",
    "            r = CalcDeRuiter(vars(i),np.array(data.ra),np.array(data.rae),np.array(data.dec),np.array(data.dece))\n",
    "        \n",
    "            if gamma:\n",
    "                y = CompareFluxes(vars(i),np.array(data.pflux),np.array(data.pfluxe))\n",
    "                \n",
    "                for j in range(len(r)):\n",
    "\n",
    "                    if r[j] <=rcheck and y[j]>= ycheck:\n",
    "                        indexlist.append(j)\n",
    "                        if i.id not in savedilist:                                \n",
    "                            FluxVar(vars(i),j)\n",
    "                            savedilist.append(i.id)\n",
    "                            \n",
    "                    elif r[j] <=rcheck:\n",
    "                        indexlist.append(j)\n",
    "     \n",
    "            else:\n",
    "                for j in range(len(r)):\n",
    "                    if checklight:\n",
    "                        if r[j] <=rcheck and (i.pflux <= 0.9*data.pflux[j] or i.pflux>=1.1*data.pflux[j]):\n",
    "                            indexlist.append(j)\n",
    "                            if i.id not in savedilist:\n",
    "                                print data.pflux[j]\n",
    "                                FluxVar(vars(i))\n",
    "                                savedilist.append(i.id)\n",
    "                        elif r[j] <=rcheck:\n",
    "                            indexlist.append(j)\n",
    "                            \n",
    "\n",
    "\n",
    "\n",
    "\n",
    "                    else:\n",
    "                        if r[j] <=rcheck:\n",
    "                            indexlist.append(j)\n",
    "\n",
    "        masterindex.append(indexlist)\n",
    "        \n",
    "    i = 0\n",
    "    j = 0\n",
    "    while i < len(masterindex):\n",
    "        if masterindex[i]:\n",
    "            del Transients.instances[j]\n",
    "            j-=1\n",
    "        i+=1\n",
    "        j+=1\n",
    "\n",
    "    print 'after:'    \n",
    "    print len(Transients.instances)\n",
    "    print len(FluxVar.instances)\n"
   ]
  },
  {
   "cell_type": "markdown",
   "metadata": {},
   "source": [
    "Class object for saving our candidate transients, class object for storing objects that have varying flux compared to external database and\n",
    "Initialize our transients class and other banana sources lists.\n",
    "\n",
    "(This piece of code has to be rerun everytime you adjust something)"
   ]
  },
  {
   "cell_type": "code",
   "execution_count": 10,
   "metadata": {
    "scrolled": true
   },
   "outputs": [],
   "source": [
    "\n",
    "class Transients(object):\n",
    "    instances = []\n",
    "    def __init__(self,ra,rae,dec,dece,ids,pflux,pfluxe):\n",
    "        self.id = ids\n",
    "        y = np.stack((ra,dec),axis = -1)\n",
    "        self.ra = ra\n",
    "        self.rae = rae\n",
    "        self.dec = dec\n",
    "        self.dece = dece\n",
    "        self.pflux = pflux\n",
    "        self.pfluxe = pfluxe\n",
    "        self.keys = ['yoloswag']\n",
    "        self.radec = np.reshape(y,(1,2))\n",
    "        Transients.instances.append(self)\n",
    "\n",
    "    def DelFalse(i):\n",
    "        del Transients.instances[i]\n",
    "\n",
    "class FluxVar(object):\n",
    "    \"\"\"class object for storing objects that have a varying flux compared to the database we are looking in\"\"\"\n",
    "    instances = []\n",
    "    def __init__(self,params,databaseentry):\n",
    "        self.id = params['id']\n",
    "        self.ra = params['ra']\n",
    "        self.dec = params['dec']\n",
    "        self.radec = params['radec']\n",
    "        self.pflux = params['pflux']\n",
    "        self.entry = databaseentry\n",
    "        try:\n",
    "            self.iflux = params['iflux']\n",
    "        except:\n",
    "            pass\n",
    "        FluxVar.instances.append(self)\n",
    "    \n",
    "\n",
    "        \n",
    "racata = []\n",
    "raecata = []\n",
    "deccata = []\n",
    "dececata = []\n",
    "idcata = []\n",
    "lightcata = []\n",
    "lightecata = []\n",
    "for i in range(len(plotdata)):\n",
    "    if plotdata[i][6] == 1:\n",
    "        Transients(plotdata[i][1],plotdata[i][3],plotdata[i][2],plotdata[i][4],plotdata[i][0],fpeak[plotdata[i][-1]-1][0],fpeake[plotdata[i][-1]-1][0])\n",
    "    else:\n",
    "        racata.append(plotdata[i][1])\n",
    "        raecata.append(plotdata[i][3])\n",
    "        deccata.append(plotdata[i][2])\n",
    "        dececata.append(plotdata[i][4])\n",
    "        idcata.append(plotdata[i][0])\n",
    "        lightcata.append(fpeak[plotdata[i][-1]-1][0])\n",
    "        lightecata.append(fpeake[plotdata[i][-1]-1][0])\n",
    "X = np.stack((racata,deccata),axis = -1)\n",
    "\n",
    "racata = np.array(racata)\n",
    "raecata = np.array(raecata)\n",
    "dececata = np.array(dececata)\n",
    "deccta = np.array(deccata)\n",
    "idcata = np.array(idcata)\n",
    "lightcata = np.array(lightcata)\n",
    "lightecata = np.array(lightecata)\n"
   ]
  },
  {
   "cell_type": "markdown",
   "metadata": {},
   "source": [
    "here we call the function for calculating the de ruiter distance between candidates and our found sources and if True is given we also check if the max of the lightcurve of the sources compared fall withing 5 sigma flux of each other (thus making it increasingly likely for   the source to be a sidelobe)\n",
    "\n",
    "This extra flux comparison is used in order to not potentially write of a faint or bright transient close to a known source."
   ]
  },
  {
   "cell_type": "code",
   "execution_count": 11,
   "metadata": {},
   "outputs": [
    {
     "name": "stdout",
     "output_type": "stream",
     "text": [
      "before:\n",
      "602\n",
      "after:\n",
      "22\n"
     ]
    }
   ],
   "source": [
    "SelectorForCandidates(rcheck = 3, ycheck = 5,checklight = True, deruiter = True)"
   ]
  },
  {
   "cell_type": "markdown",
   "metadata": {},
   "source": [
    "Get all candidates"
   ]
  },
  {
   "cell_type": "code",
   "execution_count": 12,
   "metadata": {
    "scrolled": true
   },
   "outputs": [
    {
     "name": "stdout",
     "output_type": "stream",
     "text": [
      "Candidate links\n",
      "http://banana.transientskp.org/r4/vlo_KmeulenTrap4P23/runningcatalog/16306\n",
      "http://banana.transientskp.org/r4/vlo_KmeulenTrap4P23/runningcatalog/10785\n",
      "http://banana.transientskp.org/r4/vlo_KmeulenTrap4P23/runningcatalog/10818\n",
      "http://banana.transientskp.org/r4/vlo_KmeulenTrap4P23/runningcatalog/7857\n",
      "http://banana.transientskp.org/r4/vlo_KmeulenTrap4P23/runningcatalog/9033\n",
      "http://banana.transientskp.org/r4/vlo_KmeulenTrap4P23/runningcatalog/7384\n",
      "http://banana.transientskp.org/r4/vlo_KmeulenTrap4P23/runningcatalog/16130\n",
      "http://banana.transientskp.org/r4/vlo_KmeulenTrap4P23/runningcatalog/16338\n",
      "http://banana.transientskp.org/r4/vlo_KmeulenTrap4P23/runningcatalog/6955\n",
      "http://banana.transientskp.org/r4/vlo_KmeulenTrap4P23/runningcatalog/6552\n",
      "http://banana.transientskp.org/r4/vlo_KmeulenTrap4P23/runningcatalog/10758\n",
      "http://banana.transientskp.org/r4/vlo_KmeulenTrap4P23/runningcatalog/10195\n",
      "http://banana.transientskp.org/r4/vlo_KmeulenTrap4P23/runningcatalog/6659\n",
      "http://banana.transientskp.org/r4/vlo_KmeulenTrap4P23/runningcatalog/15241\n",
      "http://banana.transientskp.org/r4/vlo_KmeulenTrap4P23/runningcatalog/9546\n",
      "http://banana.transientskp.org/r4/vlo_KmeulenTrap4P23/runningcatalog/6622\n",
      "http://banana.transientskp.org/r4/vlo_KmeulenTrap4P23/runningcatalog/11431\n",
      "http://banana.transientskp.org/r4/vlo_KmeulenTrap4P23/runningcatalog/8406\n",
      "http://banana.transientskp.org/r4/vlo_KmeulenTrap4P23/runningcatalog/8995\n",
      "http://banana.transientskp.org/r4/vlo_KmeulenTrap4P23/runningcatalog/11232\n",
      "http://banana.transientskp.org/r4/vlo_KmeulenTrap4P23/runningcatalog/6815\n",
      "http://banana.transientskp.org/r4/vlo_KmeulenTrap4P23/runningcatalog/7576\n"
     ]
    }
   ],
   "source": [
    "print \"Candidate links\"\n",
    "for i in Transients.instances:\n",
    "    print websiteURL+str(i.id)"
   ]
  },
  {
   "cell_type": "markdown",
   "metadata": {},
   "source": [
    "print out in latex format:"
   ]
  },
  {
   "cell_type": "code",
   "execution_count": 13,
   "metadata": {},
   "outputs": [
    {
     "name": "stdout",
     "output_type": "stream",
     "text": [
      "16306 & -175.262 & 50.444 & \\url{http://banana.transientskp.org/r4/vlo_KmeulenTrap4P23/runningcatalog/16306} &  \\\\\n",
      "10785 & 182.103 & 49.725 & \\url{http://banana.transientskp.org/r4/vlo_KmeulenTrap4P23/runningcatalog/10785} &  \\\\\n",
      "10818 & 182.671 & 49.125 & \\url{http://banana.transientskp.org/r4/vlo_KmeulenTrap4P23/runningcatalog/10818} &  \\\\\n",
      "7857 & 186.054 & 46.337 & \\url{http://banana.transientskp.org/r4/vlo_KmeulenTrap4P23/runningcatalog/7857} &  \\\\\n",
      "9033 & 186.056 & 46.336 & \\url{http://banana.transientskp.org/r4/vlo_KmeulenTrap4P23/runningcatalog/9033} &  \\\\\n",
      "7384 & 186.053 & 46.337 & \\url{http://banana.transientskp.org/r4/vlo_KmeulenTrap4P23/runningcatalog/7384} &  \\\\\n",
      "16130 & -173.524 & 44.939 & \\url{http://banana.transientskp.org/r4/vlo_KmeulenTrap4P23/runningcatalog/16130} &  \\\\\n",
      "16338 & -173.522 & 44.938 & \\url{http://banana.transientskp.org/r4/vlo_KmeulenTrap4P23/runningcatalog/16338} &  \\\\\n",
      "6955 & 183.241 & 48.807 & \\url{http://banana.transientskp.org/r4/vlo_KmeulenTrap4P23/runningcatalog/6955} &  \\\\\n",
      "6552 & 186.053 & 46.337 & \\url{http://banana.transientskp.org/r4/vlo_KmeulenTrap4P23/runningcatalog/6552} &  \\\\\n",
      "10758 & 181.302 & 48.298 & \\url{http://banana.transientskp.org/r4/vlo_KmeulenTrap4P23/runningcatalog/10758} &  \\\\\n",
      "10195 & 183.364 & 48.387 & \\url{http://banana.transientskp.org/r4/vlo_KmeulenTrap4P23/runningcatalog/10195} &  \\\\\n",
      "6659 & 187.778 & 47.987 & \\url{http://banana.transientskp.org/r4/vlo_KmeulenTrap4P23/runningcatalog/6659} &  \\\\\n",
      "15241 & 183.664 & 50.116 & \\url{http://banana.transientskp.org/r4/vlo_KmeulenTrap4P23/runningcatalog/15241} &  \\\\\n",
      "9546 & 183.366 & 48.387 & \\url{http://banana.transientskp.org/r4/vlo_KmeulenTrap4P23/runningcatalog/9546} &  \\\\\n",
      "6622 & 187.216 & 48.967 & \\url{http://banana.transientskp.org/r4/vlo_KmeulenTrap4P23/runningcatalog/6622} &  \\\\\n",
      "11431 & 184.777 & 48.499 & \\url{http://banana.transientskp.org/r4/vlo_KmeulenTrap4P23/runningcatalog/11431} &  \\\\\n",
      "8406 & 186.502 & 45.864 & \\url{http://banana.transientskp.org/r4/vlo_KmeulenTrap4P23/runningcatalog/8406} &  \\\\\n",
      "8995 & 185.532 & 46.755 & \\url{http://banana.transientskp.org/r4/vlo_KmeulenTrap4P23/runningcatalog/8995} &  \\\\\n",
      "11232 & 185.856 & 47.078 & \\url{http://banana.transientskp.org/r4/vlo_KmeulenTrap4P23/runningcatalog/11232} &  \\\\\n",
      "6815 & 185.532 & 46.755 & \\url{http://banana.transientskp.org/r4/vlo_KmeulenTrap4P23/runningcatalog/6815} &  \\\\\n",
      "7576 & 181.302 & 48.298 & \\url{http://banana.transientskp.org/r4/vlo_KmeulenTrap4P23/runningcatalog/7576} &  \\\\\n"
     ]
    }
   ],
   "source": [
    "for i in Transients.instances:\n",
    "    print str(i.id) + \" \" + \"&\"+ \" \" + '%0.3f' %i.ra + \" \" + \"&\"+ \" \"+ \"%0.3f\" %(i.dec) +\\\n",
    "    \" \" + \"&\" + \" \" +latexURL +str(i.id)+\"}\" +\" \" + '&' + \"  \"+\"\\\\\" + \"\\\\\""
   ]
  },
  {
   "cell_type": "markdown",
   "metadata": {},
   "source": [
    "# tgss \n",
    "is the object which has tggs survey data for the field of P23 loaded into it.\n",
    "could probably just automate it here but lets leave it for now"
   ]
  },
  {
   "cell_type": "code",
   "execution_count": 14,
   "metadata": {},
   "outputs": [
    {
     "ename": "ValueError",
     "evalue": "The truth value of an array with more than one element is ambiguous. Use a.any() or a.all()",
     "output_type": "error",
     "traceback": [
      "\u001b[0;31m\u001b[0m",
      "\u001b[0;31mValueError\u001b[0mTraceback (most recent call last)",
      "\u001b[0;32m<ipython-input-14-3b535655e907>\u001b[0m in \u001b[0;36m<module>\u001b[0;34m()\u001b[0m\n\u001b[0;32m----> 1\u001b[0;31m \u001b[0mtgss\u001b[0m \u001b[0;34m=\u001b[0m \u001b[0mdl\u001b[0m\u001b[0;34m.\u001b[0m\u001b[0mReadData\u001b[0m\u001b[0;34m(\u001b[0m\u001b[0;34m\"tgss\"\u001b[0m\u001b[0;34m)\u001b[0m\u001b[0;34m\u001b[0m\u001b[0m\n\u001b[0m\u001b[1;32m      2\u001b[0m \u001b[0;31m# print dir(tgss)\u001b[0m\u001b[0;34m\u001b[0m\u001b[0;34m\u001b[0m\u001b[0m\n",
      "\u001b[0;32m/home/kmeulen/notebooks/KrieksNotebook/KrieksTransients/Databaseloader.py\u001b[0m in \u001b[0;36mReadData\u001b[0;34m(database)\u001b[0m\n\u001b[1;32m     35\u001b[0m         \u001b[0mnp\u001b[0m\u001b[0;34m.\u001b[0m\u001b[0marray\u001b[0m\u001b[0;34m(\u001b[0m\u001b[0mdata\u001b[0m\u001b[0;34m.\u001b[0m\u001b[0mDEC\u001b[0m\u001b[0;34m)\u001b[0m\u001b[0;34m,\u001b[0m\u001b[0mnp\u001b[0m\u001b[0;34m.\u001b[0m\u001b[0marray\u001b[0m\u001b[0;34m(\u001b[0m\u001b[0mdata\u001b[0m\u001b[0;34m.\u001b[0m\u001b[0me_DEC\u001b[0m\u001b[0;34m)\u001b[0m\u001b[0;34m,\u001b[0m\u001b[0mnp\u001b[0m\u001b[0;34m.\u001b[0m\u001b[0marray\u001b[0m\u001b[0;34m(\u001b[0m\u001b[0mdata\u001b[0m\u001b[0;34m.\u001b[0m\u001b[0mSpk\u001b[0m\u001b[0;34m/\u001b[0m\u001b[0;36m1000\u001b[0m\u001b[0;34m)\u001b[0m\u001b[0;34m,\u001b[0m\u001b[0;31m\\\u001b[0m\u001b[0;34m\u001b[0m\u001b[0m\n\u001b[1;32m     36\u001b[0m         \u001b[0mnp\u001b[0m\u001b[0;34m.\u001b[0m\u001b[0marray\u001b[0m\u001b[0;34m(\u001b[0m\u001b[0mdata\u001b[0m\u001b[0;34m.\u001b[0m\u001b[0me_Spk\u001b[0m\u001b[0;34m/\u001b[0m\u001b[0;36m1000\u001b[0m\u001b[0;34m)\u001b[0m\u001b[0;34m,\u001b[0m\u001b[0;36m147.5\u001b[0m\u001b[0;34m,\u001b[0m\u001b[0mnp\u001b[0m\u001b[0;34m.\u001b[0m\u001b[0marray\u001b[0m\u001b[0;34m(\u001b[0m\u001b[0mdata\u001b[0m\u001b[0;34m.\u001b[0m\u001b[0mSint\u001b[0m\u001b[0;34m/\u001b[0m\u001b[0;36m1000\u001b[0m\u001b[0;34m)\u001b[0m\u001b[0;34m,\u001b[0m\u001b[0;31m\\\u001b[0m\u001b[0;34m\u001b[0m\u001b[0m\n\u001b[0;32m---> 37\u001b[0;31m         np.array(data.e_Sint/1000))\n\u001b[0m\u001b[1;32m     38\u001b[0m \u001b[0;34m\u001b[0m\u001b[0m\n\u001b[1;32m     39\u001b[0m     \u001b[0;32mif\u001b[0m \u001b[0mdatabase\u001b[0m \u001b[0;34m==\u001b[0m \u001b[0;34m\"vssr\"\u001b[0m\u001b[0;34m:\u001b[0m\u001b[0;34m\u001b[0m\u001b[0m\n",
      "\u001b[0;32m/home/kmeulen/notebooks/KrieksNotebook/KrieksTransients/Databaseloader.py\u001b[0m in \u001b[0;36m__init__\u001b[0;34m(self, name, ra, rae, dec, dece, pflux, pfluxe, freq, iflux, ifluxe)\u001b[0m\n\u001b[1;32m     23\u001b[0m         \u001b[0mself\u001b[0m\u001b[0;34m.\u001b[0m\u001b[0mifluxe\u001b[0m \u001b[0;34m=\u001b[0m \u001b[0mifluxe\u001b[0m\u001b[0;34m\u001b[0m\u001b[0m\n\u001b[1;32m     24\u001b[0m         \u001b[0mself\u001b[0m\u001b[0;34m.\u001b[0m\u001b[0mkeys\u001b[0m \u001b[0;34m=\u001b[0m \u001b[0;34m[\u001b[0m\u001b[0;34m'radec'\u001b[0m\u001b[0;34m,\u001b[0m\u001b[0;34m'ra'\u001b[0m\u001b[0;34m,\u001b[0m\u001b[0;34m'rae'\u001b[0m\u001b[0;34m,\u001b[0m\u001b[0;34m'dec'\u001b[0m\u001b[0;34m,\u001b[0m\u001b[0;34m'dece'\u001b[0m\u001b[0;34m,\u001b[0m\u001b[0;34m'pflux'\u001b[0m\u001b[0;34m,\u001b[0m\u001b[0;34m'pfluxe'\u001b[0m\u001b[0;34m,\u001b[0m\u001b[0;34m'freq'\u001b[0m\u001b[0;34m]\u001b[0m\u001b[0;34m\u001b[0m\u001b[0m\n\u001b[0;32m---> 25\u001b[0;31m         \u001b[0;32mif\u001b[0m \u001b[0miflux\u001b[0m\u001b[0;34m:\u001b[0m\u001b[0;34m\u001b[0m\u001b[0m\n\u001b[0m\u001b[1;32m     26\u001b[0m             \u001b[0mself\u001b[0m\u001b[0;34m.\u001b[0m\u001b[0mkeys\u001b[0m\u001b[0;34m.\u001b[0m\u001b[0mappend\u001b[0m\u001b[0;34m(\u001b[0m\u001b[0;34m'iflux'\u001b[0m\u001b[0;34m)\u001b[0m\u001b[0;34m\u001b[0m\u001b[0m\n\u001b[1;32m     27\u001b[0m             \u001b[0mself\u001b[0m\u001b[0;34m.\u001b[0m\u001b[0mkeys\u001b[0m\u001b[0;34m.\u001b[0m\u001b[0mappend\u001b[0m\u001b[0;34m(\u001b[0m\u001b[0;34m'ifluxe'\u001b[0m\u001b[0;34m)\u001b[0m\u001b[0;34m\u001b[0m\u001b[0m\n",
      "\u001b[0;31mValueError\u001b[0m: The truth value of an array with more than one element is ambiguous. Use a.any() or a.all()"
     ]
    }
   ],
   "source": [
    "tgss = dl.ReadData(\"tgss\")\n",
    "# print dir(tgss)"
   ]
  },
  {
   "cell_type": "code",
   "execution_count": null,
   "metadata": {
    "scrolled": true
   },
   "outputs": [],
   "source": [
    "CheckOutsideDatabase(tgss,rcheck = 3,ycheck = 1,checklight = True, gamma = True,deruiter = True)"
   ]
  },
  {
   "cell_type": "markdown",
   "metadata": {},
   "source": []
  },
  {
   "cell_type": "code",
   "execution_count": null,
   "metadata": {},
   "outputs": [],
   "source": [
    "print \"Candidate links\"\n",
    "for i in Transients.instances:\n",
    "    print websiteURL+str(i.id)"
   ]
  },
  {
   "cell_type": "code",
   "execution_count": null,
   "metadata": {
    "scrolled": true
   },
   "outputs": [],
   "source": [
    "print 'Fluxvary links'\n",
    "for i in FluxVar.instances:\n",
    "    print websiteURL+str(i.id)\n",
    "    print 'tgssflux: ' + str(tgss.pflux[i.entry])\n",
    "#     print tgss.ra[i.entry]\n",
    "#     print tgss.dec[i.entry]\n",
    "#     print i.ra\n",
    "#     print i.dec"
   ]
  },
  {
   "cell_type": "markdown",
   "metadata": {},
   "source": [
    "## VLSSr"
   ]
  },
  {
   "cell_type": "code",
   "execution_count": null,
   "metadata": {},
   "outputs": [],
   "source": [
    "# Probably need to pip install xlrd for excell support in pandas\n",
    "vssr = dl.ReadData('vssr')\n",
    "print vssr.keys"
   ]
  },
  {
   "cell_type": "code",
   "execution_count": null,
   "metadata": {},
   "outputs": [],
   "source": [
    "CheckOutsideDatabase(vssr,rcheck = 3,ycheck = 1,checklight = True, gamma = True,deruiter = False)"
   ]
  },
  {
   "cell_type": "code",
   "execution_count": null,
   "metadata": {},
   "outputs": [],
   "source": [
    "for i in FluxVar.instances:\n",
    "    print websiteURL+str(i.id)\n",
    "    print 'vssrflux: ' + str(vssr.pflux[i.entry])\n",
    "#     print vssr.ra[i.entry]\n",
    "#     print vssr.dec[i.entry]\n",
    "#     print i.ra\n",
    "#     print i.dec"
   ]
  },
  {
   "cell_type": "code",
   "execution_count": null,
   "metadata": {},
   "outputs": [],
   "source": []
  },
  {
   "cell_type": "code",
   "execution_count": null,
   "metadata": {},
   "outputs": [],
   "source": []
  },
  {
   "cell_type": "code",
   "execution_count": null,
   "metadata": {},
   "outputs": [],
   "source": []
  },
  {
   "cell_type": "code",
   "execution_count": null,
   "metadata": {},
   "outputs": [],
   "source": []
  },
  {
   "cell_type": "code",
   "execution_count": null,
   "metadata": {},
   "outputs": [],
   "source": []
  },
  {
   "cell_type": "code",
   "execution_count": null,
   "metadata": {},
   "outputs": [],
   "source": []
  },
  {
   "cell_type": "code",
   "execution_count": null,
   "metadata": {},
   "outputs": [],
   "source": []
  },
  {
   "cell_type": "code",
   "execution_count": null,
   "metadata": {},
   "outputs": [],
   "source": []
  },
  {
   "cell_type": "code",
   "execution_count": 102,
   "metadata": {},
   "outputs": [],
   "source": [
    "for i in range(len(Transients.instances)):\n",
    "    if Transients.instances[i].id == 3324:\n",
    "        print i"
   ]
  },
  {
   "cell_type": "code",
   "execution_count": 103,
   "metadata": {},
   "outputs": [
    {
     "ename": "IndexError",
     "evalue": "list index out of range",
     "output_type": "error",
     "traceback": [
      "\u001b[0;31m\u001b[0m",
      "\u001b[0;31mIndexError\u001b[0mTraceback (most recent call last)",
      "\u001b[0;32m<ipython-input-103-8477819a026d>\u001b[0m in \u001b[0;36m<module>\u001b[0;34m()\u001b[0m\n\u001b[0;32m----> 1\u001b[0;31m \u001b[0mr\u001b[0m \u001b[0;34m=\u001b[0m \u001b[0mCompareFluxes\u001b[0m\u001b[0;34m(\u001b[0m\u001b[0mvars\u001b[0m\u001b[0;34m(\u001b[0m\u001b[0mTransients\u001b[0m\u001b[0;34m.\u001b[0m\u001b[0minstances\u001b[0m\u001b[0;34m[\u001b[0m\u001b[0;36m7\u001b[0m\u001b[0;34m]\u001b[0m\u001b[0;34m)\u001b[0m\u001b[0;34m,\u001b[0m\u001b[0mnp\u001b[0m\u001b[0;34m.\u001b[0m\u001b[0marray\u001b[0m\u001b[0;34m(\u001b[0m\u001b[0mlightcata\u001b[0m\u001b[0;34m)\u001b[0m\u001b[0;34m,\u001b[0m\u001b[0mnp\u001b[0m\u001b[0;34m.\u001b[0m\u001b[0marray\u001b[0m\u001b[0;34m(\u001b[0m\u001b[0mlightecata\u001b[0m\u001b[0;34m)\u001b[0m\u001b[0;34m)\u001b[0m\u001b[0;34m\u001b[0m\u001b[0m\n\u001b[0m",
      "\u001b[0;31mIndexError\u001b[0m: list index out of range"
     ]
    }
   ],
   "source": [
    "r = CompareFluxes(vars(Transients.instances[7]),np.array(lightcata),np.array(lightecata))"
   ]
  },
  {
   "cell_type": "code",
   "execution_count": 104,
   "metadata": {},
   "outputs": [
    {
     "name": "stdout",
     "output_type": "stream",
     "text": [
      "162\n",
      "234\n",
      "381\n",
      "403\n",
      "503\n",
      "533\n",
      "537\n",
      "655\n",
      "742\n",
      "1201\n",
      "1328\n",
      "1337\n",
      "1412\n",
      "1510\n",
      "1532\n",
      "1626\n",
      "1661\n",
      "1672\n",
      "1853\n",
      "1874\n",
      "2029\n",
      "2035\n",
      "2040\n",
      "2127\n",
      "2268\n",
      "2359\n",
      "2412\n",
      "2420\n",
      "2612\n",
      "2641\n",
      "2721\n",
      "2803\n",
      "2828\n",
      "2843\n",
      "2852\n",
      "2854\n",
      "2956\n",
      "2996\n",
      "3009\n",
      "3025\n",
      "3058\n",
      "3227\n",
      "3260\n",
      "3291\n",
      "3300\n",
      "3336\n",
      "3353\n",
      "3460\n",
      "3478\n",
      "3501\n",
      "3554\n",
      "3860\n",
      "3918\n",
      "4091\n",
      "4363\n",
      "4378\n",
      "4381\n",
      "4391\n",
      "4448\n",
      "4461\n",
      "4670\n",
      "4758\n",
      "4786\n",
      "4805\n",
      "4843\n",
      "4851\n",
      "4862\n",
      "4926\n",
      "4934\n",
      "5092\n",
      "5109\n",
      "5143\n",
      "5205\n",
      "5224\n",
      "5251\n",
      "5263\n",
      "5281\n",
      "5285\n",
      "5303\n",
      "5317\n",
      "5336\n",
      "5353\n",
      "5459\n",
      "5520\n",
      "5556\n",
      "5631\n",
      "5637\n",
      "5678\n",
      "5714\n",
      "5791\n",
      "5816\n",
      "5909\n",
      "6215\n",
      "6297\n",
      "6360\n",
      "6450\n",
      "6523\n",
      "6532\n",
      "6609\n",
      "6635\n",
      "6643\n",
      "6725\n",
      "6805\n",
      "6837\n",
      "6856\n",
      "6858\n",
      "6953\n",
      "7091\n",
      "7120\n",
      "7247\n",
      "7260\n",
      "7365\n",
      "7435\n",
      "7537\n",
      "7685\n",
      "7771\n",
      "7786\n",
      "7896\n",
      "8032\n",
      "8126\n",
      "8199\n",
      "8439\n",
      "8483\n",
      "8509\n",
      "8661\n",
      "8674\n",
      "8857\n",
      "8885\n",
      "8916\n",
      "8930\n",
      "8974\n",
      "9076\n",
      "9099\n",
      "9105\n",
      "9253\n",
      "9388\n",
      "9389\n",
      "9395\n",
      "9421\n",
      "yoloswag\n",
      "41.38103683732318\n",
      "42.05647887630652\n",
      "41.636468117897714\n"
     ]
    }
   ],
   "source": [
    "for j in range(len(lightcata)):\n",
    "    if 0.594<=lightcata[j]<=0.7143 :\n",
    "        print j\n",
    "\n",
    "for i in range(len(r)):\n",
    "    if r[i] <=1:\n",
    "        print r[i]\n",
    "print 'yoloswag'\n",
    "print r[103]\n",
    "print r[225]\n",
    "print r[601]"
   ]
  },
  {
   "cell_type": "code",
   "execution_count": 105,
   "metadata": {},
   "outputs": [
    {
     "name": "stdout",
     "output_type": "stream",
     "text": [
      "11616\n"
     ]
    }
   ],
   "source": [
    "print idcata[0]"
   ]
  },
  {
   "cell_type": "code",
   "execution_count": null,
   "metadata": {},
   "outputs": [],
   "source": []
  },
  {
   "cell_type": "markdown",
   "metadata": {},
   "source": [
    "Delete double entries in transient list"
   ]
  },
  {
   "cell_type": "code",
   "execution_count": null,
   "metadata": {},
   "outputs": [],
   "source": []
  },
  {
   "cell_type": "code",
   "execution_count": null,
   "metadata": {},
   "outputs": [],
   "source": []
  },
  {
   "cell_type": "markdown",
   "metadata": {},
   "source": [
    "Delete candidates that have an euclidean distance measure of 0.04 or less with the rest of the sources"
   ]
  },
  {
   "cell_type": "code",
   "execution_count": null,
   "metadata": {},
   "outputs": [],
   "source": []
  },
  {
   "cell_type": "markdown",
   "metadata": {},
   "source": []
  },
  {
   "cell_type": "code",
   "execution_count": null,
   "metadata": {},
   "outputs": [],
   "source": []
  },
  {
   "cell_type": "code",
   "execution_count": null,
   "metadata": {},
   "outputs": [],
   "source": []
  },
  {
   "cell_type": "code",
   "execution_count": null,
   "metadata": {},
   "outputs": [],
   "source": []
  },
  {
   "cell_type": "code",
   "execution_count": null,
   "metadata": {},
   "outputs": [],
   "source": []
  },
  {
   "cell_type": "code",
   "execution_count": null,
   "metadata": {},
   "outputs": [],
   "source": []
  },
  {
   "cell_type": "code",
   "execution_count": null,
   "metadata": {},
   "outputs": [],
   "source": []
  },
  {
   "cell_type": "code",
   "execution_count": null,
   "metadata": {},
   "outputs": [],
   "source": []
  }
 ],
 "metadata": {
  "kernelspec": {
   "display_name": "Python 2",
   "language": "python",
   "name": "python2"
  },
  "language_info": {
   "codemirror_mode": {
    "name": "ipython",
    "version": 2
   },
   "file_extension": ".py",
   "mimetype": "text/x-python",
   "name": "python",
   "nbconvert_exporter": "python",
   "pygments_lexer": "ipython2",
   "version": "2.7.6"
  }
 },
 "nbformat": 4,
 "nbformat_minor": 2
}
